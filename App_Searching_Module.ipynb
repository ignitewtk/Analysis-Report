{
 "cells": [
  {
   "cell_type": "code",
   "execution_count": 1,
   "metadata": {},
   "outputs": [],
   "source": [
    "import pandas as pd\n",
    "import numpy as np\n",
    "import os\n",
    "import jieba\n",
    "import gensim\n",
    "from wordcloud import WordCloud, ImageColorGenerator\n",
    "import matplotlib.pyplot as plt\n",
    "import sys\n",
    "import pprint\n",
    "from gensim import corpora, models, similarities"
   ]
  },
  {
   "cell_type": "code",
   "execution_count": 4,
   "metadata": {},
   "outputs": [
    {
     "name": "stdout",
     "output_type": "stream",
     "text": [
      "CPU times: user 6.22 s, sys: 61.2 ms, total: 6.29 s\n",
      "Wall time: 6.31 s\n"
     ]
    }
   ],
   "source": [
    "%%time\n",
    "# Load dataset\n",
    "data_item = pd.read_excel('../data/推荐系统项目_菜品数据.xlsx')"
   ]
  },
  {
   "cell_type": "code",
   "execution_count": 5,
   "metadata": {},
   "outputs": [],
   "source": [
    "data_item.item_name = data_item.item_name.astype(str)"
   ]
  },
  {
   "cell_type": "code",
   "execution_count": 6,
   "metadata": {},
   "outputs": [],
   "source": [
    "# Customized stop words\n",
    "stoplist = [' ',  '~', '！', '!', '～', '@', '@','#', '#', '\\\\', '｜', \n",
    "            '，', ',', '$', '¥', '%', '%', '^', '……', '&', '&', '*', '*', \n",
    "            '(', ')', '.', '。', '（', '）', '_', '—', '+', '+', \n",
    "            '`', '·', '{', '}', '「', '」', '[]', ']', '【', '】', \n",
    "            ':', '：', '\"', '“', '”', '<', '>', '《', '》', '?', '？', '/', '〉']"
   ]
  },
  {
   "cell_type": "code",
   "execution_count": 7,
   "metadata": {
    "scrolled": true
   },
   "outputs": [
    {
     "name": "stderr",
     "output_type": "stream",
     "text": [
      "Building prefix dict from the default dictionary ...\n",
      "Loading model from cache /var/folders/21/vf965q255vsdl911tn822qzr0000gn/T/jieba.cache\n",
      "Loading model cost 0.700 seconds.\n",
      "Prefix dict has been built succesfully.\n"
     ]
    }
   ],
   "source": [
    "text_corpus = list(data_item.item_name.values)\n",
    "text_corpus\n",
    "# Tokenization\n",
    "texts = [[word for word in jieba.cut(document, cut_all=False) if word not in stoplist] for document in text_corpus]\n",
    "# Count word frequencies\n",
    "from collections import defaultdict\n",
    "frequency = defaultdict(int)\n",
    "for text in texts:\n",
    "    for token in text:\n",
    "        frequency[token] += 1\n",
    "processed_corpus = [[token for token in text if frequency[token] > 1] for text in texts]\n",
    "dictionary = corpora.Dictionary(processed_corpus)"
   ]
  },
  {
   "cell_type": "code",
   "execution_count": 8,
   "metadata": {},
   "outputs": [
    {
     "name": "stdout",
     "output_type": "stream",
     "text": [
      "CPU times: user 5 µs, sys: 1 µs, total: 6 µs\n",
      "Wall time: 9.3 µs\n"
     ]
    }
   ],
   "source": [
    "%%time\n",
    "\n",
    "def score_simhash(query, doc):\n",
    "    q_simhash = Simhash(query)\n",
    "    d_simhash = Simhash(doc)\n",
    "    max_hashbit = max(len(bin(q_simhash.value)), (len(bin(d_simhash.value))))\n",
    "    distance = q_simhash.distance(d_simhash)\n",
    "    similar = 1 - distance/max_hashbit\n",
    "    return similar\n",
    "\n",
    "def score_jaccard(query, doc):\n",
    "    intersection = len(list(set(query).intersection(doc)))\n",
    "    union = (len(query) + len(doc)) - intersection\n",
    "    return round(float(intersection) / union, 2)\n",
    "\n",
    "\n",
    "def score_jaccard2(query, doc):\n",
    "    s1 = set([i for i in '/'.join(jieba.cut(query)).split('/') if i not in stoplist])\n",
    "    s2 = set([i for i in '/'.join(jieba.cut(doc)).split('/') if i not in stoplist])\n",
    "    # print(set([i for i in '/'.join(jieba.cut(query)).split('/') if i not in stoplist]))\n",
    "    # print(set([i for i in '/'.join(jieba.cut(doc)).split('/') if i not in stoplist]))\n",
    "    \n",
    "    intersection = len(list(s1.intersection(s2)))\n",
    "    \n",
    "    union = (len(query) + len(doc)) - intersection\n",
    "    return round(float(intersection) / union, 2)"
   ]
  },
  {
   "cell_type": "markdown",
   "metadata": {},
   "source": [
    "> 'q' is the query including searching key words. <br>\n",
    "'d' refers a document existing in *data_item.item_names*. <br>\n",
    "The result shows the matching dishes with the corresponding ranking scores(similarity).\n"
   ]
  },
  {
   "cell_type": "code",
   "execution_count": 24,
   "metadata": {},
   "outputs": [
    {
     "data": {
      "text/html": [
       "<div>\n",
       "<style scoped>\n",
       "    .dataframe tbody tr th:only-of-type {\n",
       "        vertical-align: middle;\n",
       "    }\n",
       "\n",
       "    .dataframe tbody tr th {\n",
       "        vertical-align: top;\n",
       "    }\n",
       "\n",
       "    .dataframe thead th {\n",
       "        text-align: right;\n",
       "    }\n",
       "</style>\n",
       "<table border=\"1\" class=\"dataframe\">\n",
       "  <thead>\n",
       "    <tr style=\"text-align: right;\">\n",
       "      <th></th>\n",
       "      <th>Dish name</th>\n",
       "      <th>Ranking score</th>\n",
       "    </tr>\n",
       "  </thead>\n",
       "  <tbody>\n",
       "    <tr>\n",
       "      <th>0</th>\n",
       "      <td>羊角豆</td>\n",
       "      <td>0.67</td>\n",
       "    </tr>\n",
       "    <tr>\n",
       "      <th>1</th>\n",
       "      <td>羊角豆</td>\n",
       "      <td>0.67</td>\n",
       "    </tr>\n",
       "    <tr>\n",
       "      <th>2</th>\n",
       "      <td>羊角豆</td>\n",
       "      <td>0.67</td>\n",
       "    </tr>\n",
       "    <tr>\n",
       "      <th>3</th>\n",
       "      <td>干煸豆角</td>\n",
       "      <td>0.50</td>\n",
       "    </tr>\n",
       "    <tr>\n",
       "      <th>4</th>\n",
       "      <td>干煸豆角</td>\n",
       "      <td>0.50</td>\n",
       "    </tr>\n",
       "    <tr>\n",
       "      <th>5</th>\n",
       "      <td>干煸豆角</td>\n",
       "      <td>0.50</td>\n",
       "    </tr>\n",
       "    <tr>\n",
       "      <th>6</th>\n",
       "      <td>干煸豆角</td>\n",
       "      <td>0.50</td>\n",
       "    </tr>\n",
       "    <tr>\n",
       "      <th>7</th>\n",
       "      <td>茄子豆角</td>\n",
       "      <td>0.50</td>\n",
       "    </tr>\n",
       "    <tr>\n",
       "      <th>8</th>\n",
       "      <td>酸豆角面</td>\n",
       "      <td>0.50</td>\n",
       "    </tr>\n",
       "    <tr>\n",
       "      <th>9</th>\n",
       "      <td>酸豆角面</td>\n",
       "      <td>0.50</td>\n",
       "    </tr>\n",
       "    <tr>\n",
       "      <th>10</th>\n",
       "      <td>干煸豆角</td>\n",
       "      <td>0.50</td>\n",
       "    </tr>\n",
       "    <tr>\n",
       "      <th>11</th>\n",
       "      <td>干煸豆角</td>\n",
       "      <td>0.50</td>\n",
       "    </tr>\n",
       "    <tr>\n",
       "      <th>12</th>\n",
       "      <td>酸豆角面</td>\n",
       "      <td>0.50</td>\n",
       "    </tr>\n",
       "    <tr>\n",
       "      <th>13</th>\n",
       "      <td>豆角烀饼</td>\n",
       "      <td>0.50</td>\n",
       "    </tr>\n",
       "    <tr>\n",
       "      <th>14</th>\n",
       "      <td>茄子豆角</td>\n",
       "      <td>0.50</td>\n",
       "    </tr>\n",
       "    <tr>\n",
       "      <th>15</th>\n",
       "      <td>茄子豆角</td>\n",
       "      <td>0.50</td>\n",
       "    </tr>\n",
       "    <tr>\n",
       "      <th>16</th>\n",
       "      <td>茄子豆角</td>\n",
       "      <td>0.50</td>\n",
       "    </tr>\n",
       "    <tr>\n",
       "      <th>17</th>\n",
       "      <td>酸豆角饭</td>\n",
       "      <td>0.50</td>\n",
       "    </tr>\n",
       "    <tr>\n",
       "      <th>18</th>\n",
       "      <td>干煸豆角</td>\n",
       "      <td>0.50</td>\n",
       "    </tr>\n",
       "    <tr>\n",
       "      <th>19</th>\n",
       "      <td>茄子炒豆角</td>\n",
       "      <td>0.40</td>\n",
       "    </tr>\n",
       "  </tbody>\n",
       "</table>\n",
       "</div>"
      ],
      "text/plain": [
       "   Dish name  Ranking score\n",
       "0        羊角豆           0.67\n",
       "1        羊角豆           0.67\n",
       "2        羊角豆           0.67\n",
       "3       干煸豆角           0.50\n",
       "4       干煸豆角           0.50\n",
       "5       干煸豆角           0.50\n",
       "6       干煸豆角           0.50\n",
       "7       茄子豆角           0.50\n",
       "8       酸豆角面           0.50\n",
       "9       酸豆角面           0.50\n",
       "10      干煸豆角           0.50\n",
       "11      干煸豆角           0.50\n",
       "12      酸豆角面           0.50\n",
       "13      豆角烀饼           0.50\n",
       "14      茄子豆角           0.50\n",
       "15      茄子豆角           0.50\n",
       "16      茄子豆角           0.50\n",
       "17      酸豆角饭           0.50\n",
       "18      干煸豆角           0.50\n",
       "19     茄子炒豆角           0.40"
      ]
     },
     "execution_count": 24,
     "metadata": {},
     "output_type": "execute_result"
    }
   ],
   "source": [
    "ranks = []\n",
    "q = '豆角'\n",
    "# d = '香辣牛肉饭'\n",
    "# score_jaccard2(q, d)\n",
    "\n",
    "ranks = []\n",
    "for d in data_item.item_name.values:\n",
    "    ranks.append([d, score_jaccard(q, d)])\n",
    "pd.DataFrame(\n",
    "    sorted(ranks, key=lambda x: x[1], reverse=True)[:50],\n",
    "    columns = ['Dish name', 'Ranking score']).head(20)\n",
    "\n",
    "# score_jaccard(q, '香辣牛舌饭')\n",
    "# for d in data_item.item_name.values[:20000]:\n",
    "#     ranks.append([d, score_simhash(q, d)])\n",
    "# print(sorted(ranks, key=lambda x: x[1], reverse=True)[:10])"
   ]
  },
  {
   "cell_type": "code",
   "execution_count": null,
   "metadata": {},
   "outputs": [],
   "source": []
  }
 ],
 "metadata": {
  "kernelspec": {
   "display_name": "Python 3",
   "language": "python",
   "name": "python3"
  },
  "language_info": {
   "codemirror_mode": {
    "name": "ipython",
    "version": 3
   },
   "file_extension": ".py",
   "mimetype": "text/x-python",
   "name": "python",
   "nbconvert_exporter": "python",
   "pygments_lexer": "ipython3",
   "version": "3.8.5"
  },
  "toc": {
   "base_numbering": 1,
   "nav_menu": {},
   "number_sections": true,
   "sideBar": true,
   "skip_h1_title": false,
   "title_cell": "Table of Contents",
   "title_sidebar": "Contents",
   "toc_cell": false,
   "toc_position": {},
   "toc_section_display": true,
   "toc_window_display": false
  }
 },
 "nbformat": 4,
 "nbformat_minor": 4
}
